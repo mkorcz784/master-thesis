{
 "cells": [
  {
   "cell_type": "code",
   "execution_count": 9,
   "id": "bf42b5b1",
   "metadata": {},
   "outputs": [],
   "source": [
    "import math \n",
    "import numpy as np\n",
    "import pandas as pd \n",
    "import matplotlib.pyplot as plt"
   ]
  },
  {
   "cell_type": "markdown",
   "id": "bda9f583",
   "metadata": {},
   "source": [
    "### binom test"
   ]
  },
  {
   "cell_type": "code",
   "execution_count": 3,
   "id": "4f554bb7",
   "metadata": {},
   "outputs": [
    {
     "name": "stdout",
     "output_type": "stream",
     "text": [
      "        c   probability\n",
      "0       3  1.892683e-02\n",
      "1       4  3.636878e-03\n",
      "2       5  5.880701e-04\n",
      "3       6  8.197002e-05\n",
      "4       7  1.003187e-05\n",
      "..    ...           ...\n",
      "993   996  7.771561e-16\n",
      "994   997  7.771561e-16\n",
      "995   998  7.771561e-16\n",
      "996   999  7.771561e-16\n",
      "997  1000  7.771561e-16\n",
      "\n",
      "[998 rows x 2 columns]\n"
     ]
    }
   ],
   "source": [
    "n = 1000\n",
    "p = 0.001\n",
    "threshold = 0.05\n",
    "\n",
    "satisfying_data = []\n",
    "\n",
    "for c in range(n+1):\n",
    "    cumulative_prob = sum(math.comb(n, k) * (p ** k) * ((1 - p) ** (n - k)) for k in range(c+1))\n",
    "    if 1 - cumulative_prob <= threshold:\n",
    "        satisfying_data.append((c, 1 - cumulative_prob))\n",
    "\n",
    "df = pd.DataFrame(satisfying_data, columns=['c', 'probability'])\n",
    "\n",
    "print(df)"
   ]
  },
  {
   "cell_type": "code",
   "execution_count": 4,
   "id": "6b7ba640",
   "metadata": {},
   "outputs": [
    {
     "name": "stdout",
     "output_type": "stream",
     "text": [
      "         c   probability\n",
      "0        0  6.323046e-01\n",
      "1        1  2.642411e-01\n",
      "2        2  8.020934e-02\n",
      "3        3  1.892683e-02\n",
      "4        4  3.636878e-03\n",
      "...    ...           ...\n",
      "996    996  7.771561e-16\n",
      "997    997  7.771561e-16\n",
      "998    998  7.771561e-16\n",
      "999    999  7.771561e-16\n",
      "1000  1000  7.771561e-16\n",
      "\n",
      "[1001 rows x 2 columns]\n"
     ]
    }
   ],
   "source": [
    "n = 1000\n",
    "p = 0.001\n",
    "\n",
    "all_data = []\n",
    "\n",
    "for c in range(n+1):\n",
    "    cumulative_prob = sum(math.comb(n, k) * (p ** k) * ((1 - p) ** (n - k)) for k in range(c+1))\n",
    "    all_data.append((c, 1 - cumulative_prob))\n",
    "\n",
    "df = pd.DataFrame(all_data, columns=['c', 'probability'])\n",
    "\n",
    "print(df)"
   ]
  },
  {
   "cell_type": "code",
   "execution_count": 5,
   "id": "93f5e389",
   "metadata": {},
   "outputs": [
    {
     "data": {
      "text/plain": [
       "0.08020934"
      ]
     },
     "execution_count": 5,
     "metadata": {},
     "output_type": "execute_result"
    }
   ],
   "source": [
    "8.020934e-02"
   ]
  },
  {
   "cell_type": "code",
   "execution_count": 6,
   "id": "332d97b5",
   "metadata": {},
   "outputs": [
    {
     "data": {
      "text/plain": [
       "0.01892683"
      ]
     },
     "execution_count": 6,
     "metadata": {},
     "output_type": "execute_result"
    }
   ],
   "source": [
    "1.892683e-02"
   ]
  },
  {
   "cell_type": "code",
   "execution_count": 126,
   "id": "3b115f94",
   "metadata": {},
   "outputs": [
    {
     "data": {
      "text/html": [
       "<div>\n",
       "<style scoped>\n",
       "    .dataframe tbody tr th:only-of-type {\n",
       "        vertical-align: middle;\n",
       "    }\n",
       "\n",
       "    .dataframe tbody tr th {\n",
       "        vertical-align: top;\n",
       "    }\n",
       "\n",
       "    .dataframe thead th {\n",
       "        text-align: right;\n",
       "    }\n",
       "</style>\n",
       "<table border=\"1\" class=\"dataframe\">\n",
       "  <thead>\n",
       "    <tr style=\"text-align: right;\">\n",
       "      <th></th>\n",
       "      <th>Results</th>\n",
       "      <th>Probabilities</th>\n",
       "    </tr>\n",
       "  </thead>\n",
       "  <tbody>\n",
       "    <tr>\n",
       "      <th>0</th>\n",
       "      <td>0.857304</td>\n",
       "      <td>0.0020</td>\n",
       "    </tr>\n",
       "    <tr>\n",
       "      <th>1</th>\n",
       "      <td>0.838822</td>\n",
       "      <td>0.0021</td>\n",
       "    </tr>\n",
       "    <tr>\n",
       "      <th>2</th>\n",
       "      <td>0.819526</td>\n",
       "      <td>0.0022</td>\n",
       "    </tr>\n",
       "    <tr>\n",
       "      <th>3</th>\n",
       "      <td>0.799511</td>\n",
       "      <td>0.0023</td>\n",
       "    </tr>\n",
       "    <tr>\n",
       "      <th>4</th>\n",
       "      <td>0.778874</td>\n",
       "      <td>0.0024</td>\n",
       "    </tr>\n",
       "    <tr>\n",
       "      <th>...</th>\n",
       "      <td>...</td>\n",
       "      <td>...</td>\n",
       "    </tr>\n",
       "    <tr>\n",
       "      <th>75</th>\n",
       "      <td>0.014531</td>\n",
       "      <td>0.0095</td>\n",
       "    </tr>\n",
       "    <tr>\n",
       "      <th>76</th>\n",
       "      <td>0.013511</td>\n",
       "      <td>0.0096</td>\n",
       "    </tr>\n",
       "    <tr>\n",
       "      <th>77</th>\n",
       "      <td>0.012559</td>\n",
       "      <td>0.0097</td>\n",
       "    </tr>\n",
       "    <tr>\n",
       "      <th>78</th>\n",
       "      <td>0.011672</td>\n",
       "      <td>0.0098</td>\n",
       "    </tr>\n",
       "    <tr>\n",
       "      <th>79</th>\n",
       "      <td>0.010844</td>\n",
       "      <td>0.0099</td>\n",
       "    </tr>\n",
       "  </tbody>\n",
       "</table>\n",
       "<p>80 rows × 2 columns</p>\n",
       "</div>"
      ],
      "text/plain": [
       "     Results  Probabilities\n",
       "0   0.857304         0.0020\n",
       "1   0.838822         0.0021\n",
       "2   0.819526         0.0022\n",
       "3   0.799511         0.0023\n",
       "4   0.778874         0.0024\n",
       "..       ...            ...\n",
       "75  0.014531         0.0095\n",
       "76  0.013511         0.0096\n",
       "77  0.012559         0.0097\n",
       "78  0.011672         0.0098\n",
       "79  0.010844         0.0099\n",
       "\n",
       "[80 rows x 2 columns]"
      ]
     },
     "execution_count": 126,
     "metadata": {},
     "output_type": "execute_result"
    }
   ],
   "source": [
    "n = 1000\n",
    "c = 3\n",
    "\n",
    "results = []\n",
    "probabilities = []\n",
    "\n",
    "for p in np.arange(0.002, 0.01, 0.0001):\n",
    "    cumulative_prob = sum(math.comb(n, k) * (p ** k) * ((1 - p) ** (n - k)) for k in range(c + 1))\n",
    "    results.append(cumulative_prob)\n",
    "    probabilities.append(p)\n",
    "\n",
    "df = pd.DataFrame({'Results': results, 'Probabilities': probabilities})\n",
    "\n",
    "df"
   ]
  },
  {
   "cell_type": "code",
   "execution_count": 105,
   "id": "9d9fb451",
   "metadata": {},
   "outputs": [],
   "source": [
    "import matplotlib as mpl\n",
    "mpl.rcParams[\"font.family\"] = \"Times New Roman\"\n",
    "mpl.rcParams[\"font.style\"] = \"normal\""
   ]
  },
  {
   "cell_type": "code",
   "execution_count": 167,
   "id": "670428b4",
   "metadata": {},
   "outputs": [
    {
     "data": {
      "image/png": "[encoded data removed]",
      "text/plain": [
       "<Figure size 1080x720 with 1 Axes>"
      ]
     },
     "metadata": {
      "needs_background": "light"
     },
     "output_type": "display_data"
    }
   ],
   "source": [
    "plt.figure(figsize = (15, 10))\n",
    "plt.plot(np.arange(0.002, 0.01, 0.0001), df[\"Results\"], linewidth = 2)\n",
    "plt.xlim([.002, .01])\n",
    "plt.ylim([0, 1])\n",
    "plt.xticks(list(np.arange(.002, .01, .001)), fontsize = 20)\n",
    "plt.yticks(list(np.arange(.2, 1, .2)), fontsize = 20)\n",
    "plt.xlabel(\"p\", fontsize = 25, labelpad = 30, fontstyle = \"italic\")\n",
    "plt.ylabel(r\"$\\beta$(p)\", fontsize = 25, rotation = 360, labelpad = 50, fontstyle = \"italic\")\n",
    "plt.gca().yaxis.set_label_coords(0, 1.02)\n",
    "plt.gca().xaxis.set_label_coords(1.03, .02)\n",
    "#plt.title('B(3, 1000, p) Results')\n",
    "plt.show()"
   ]
  },
  {
   "cell_type": "markdown",
   "id": "7e425e6d",
   "metadata": {},
   "source": [
    "### simmulation approach"
   ]
  },
  {
   "cell_type": "code",
   "execution_count": 10,
   "id": "e6c888a5",
   "metadata": {},
   "outputs": [],
   "source": [
    "p0 = 0.001\n",
    "p1 = 0.002\n",
    "n0 = 1000"
   ]
  },
  {
   "cell_type": "code",
   "execution_count": 11,
   "id": "1ea1bd41",
   "metadata": {},
   "outputs": [],
   "source": [
    "r = 100000\n",
    "\n",
    "frequencies_1 = []\n",
    "\n",
    "for i in range(r):\n",
    "    sample = np.random.binomial(1, p0, n0)\n",
    "    ps = sum(sample) / len(sample)\n",
    "    frequencies_1.append(ps)"
   ]
  },
  {
   "cell_type": "code",
   "execution_count": 12,
   "id": "4717f446",
   "metadata": {},
   "outputs": [
    {
     "data": {
      "text/plain": [
       "0        0.001\n",
       "1        0.000\n",
       "2        0.002\n",
       "3        0.000\n",
       "4        0.001\n",
       "         ...  \n",
       "99995    0.001\n",
       "99996    0.000\n",
       "99997    0.001\n",
       "99998    0.002\n",
       "99999    0.000\n",
       "Length: 100000, dtype: float64"
      ]
     },
     "execution_count": 12,
     "metadata": {},
     "output_type": "execute_result"
    }
   ],
   "source": [
    "frequencies_1 = pd.Series(frequencies_1)\n",
    "frequencies_1"
   ]
  },
  {
   "cell_type": "code",
   "execution_count": 13,
   "id": "e0172801",
   "metadata": {},
   "outputs": [
    {
     "data": {
      "image/png": "[encoded data removed]",
      "text/plain": [
       "<Figure size 1080x720 with 1 Axes>"
      ]
     },
     "metadata": {
      "needs_background": "light"
     },
     "output_type": "display_data"
    }
   ],
   "source": [
    "plt.figure(figsize = (15, 10))\n",
    "plt.hist(frequencies_1, bins = \"auto\")\n",
    "plt.xticks(fontsize = 20)\n",
    "plt.yticks(list(np.arange(10000, 40000, 10000)), fontsize = 20)\n",
    "plt.show()"
   ]
  },
  {
   "cell_type": "code",
   "execution_count": 14,
   "id": "f089c0ed",
   "metadata": {},
   "outputs": [],
   "source": [
    "alpha = 0.05            # significance level "
   ]
  },
  {
   "cell_type": "code",
   "execution_count": 15,
   "id": "26a9f2c6",
   "metadata": {},
   "outputs": [
    {
     "data": {
      "text/plain": [
       "0.003"
      ]
     },
     "execution_count": 15,
     "metadata": {},
     "output_type": "execute_result"
    }
   ],
   "source": [
    "c = frequencies_1.quantile(1 - alpha)      # critical value \n",
    "c"
   ]
  },
  {
   "cell_type": "code",
   "execution_count": 16,
   "id": "2d072f4c",
   "metadata": {},
   "outputs": [],
   "source": [
    "r = 100000\n",
    "\n",
    "frequencies_2 = []\n",
    "\n",
    "for i in range(r):\n",
    "    sample = np.random.binomial(1, p1, n0)\n",
    "    ps = sum(sample) / len(sample)\n",
    "    frequencies_2.append(ps)"
   ]
  },
  {
   "cell_type": "code",
   "execution_count": 17,
   "id": "f9d065a8",
   "metadata": {},
   "outputs": [
    {
     "data": {
      "text/plain": [
       "0        0.003\n",
       "1        0.002\n",
       "2        0.001\n",
       "3        0.003\n",
       "4        0.001\n",
       "         ...  \n",
       "99995    0.001\n",
       "99996    0.003\n",
       "99997    0.002\n",
       "99998    0.000\n",
       "99999    0.003\n",
       "Length: 100000, dtype: float64"
      ]
     },
     "execution_count": 17,
     "metadata": {},
     "output_type": "execute_result"
    }
   ],
   "source": [
    "frequencies_2 = pd.Series(frequencies_2)\n",
    "frequencies_2"
   ]
  },
  {
   "cell_type": "code",
   "execution_count": 18,
   "id": "aebc01e3",
   "metadata": {},
   "outputs": [
    {
     "data": {
      "image/png": "[encoded data removed]",
      "text/plain": [
       "<Figure size 720x360 with 1 Axes>"
      ]
     },
     "metadata": {
      "needs_background": "light"
     },
     "output_type": "display_data"
    }
   ],
   "source": [
    "plt.figure(figsize = (10, 5))\n",
    "plt.hist(frequencies_2, bins = \"auto\")\n",
    "plt.show()"
   ]
  },
  {
   "cell_type": "code",
   "execution_count": 19,
   "id": "61ad8f59",
   "metadata": {},
   "outputs": [
    {
     "data": {
      "text/plain": [
       "0.003"
      ]
     },
     "execution_count": 19,
     "metadata": {},
     "output_type": "execute_result"
    }
   ],
   "source": [
    "c"
   ]
  },
  {
   "cell_type": "code",
   "execution_count": 20,
   "id": "a92d1528",
   "metadata": {},
   "outputs": [
    {
     "data": {
      "text/plain": [
       "0        0.003\n",
       "1        0.002\n",
       "2        0.001\n",
       "3        0.003\n",
       "4        0.001\n",
       "         ...  \n",
       "99995    0.001\n",
       "99996    0.003\n",
       "99997    0.002\n",
       "99998    0.000\n",
       "99999    0.003\n",
       "Length: 85676, dtype: float64"
      ]
     },
     "execution_count": 20,
     "metadata": {},
     "output_type": "execute_result"
    }
   ],
   "source": [
    "frequencies_2[frequencies_2 <= c]"
   ]
  },
  {
   "cell_type": "code",
   "execution_count": 27,
   "id": "a1176f79",
   "metadata": {},
   "outputs": [
    {
     "data": {
      "text/plain": [
       "0.85676"
      ]
     },
     "execution_count": 27,
     "metadata": {},
     "output_type": "execute_result"
    }
   ],
   "source": [
    "# type II error estimate \n",
    "b = len(frequencies_2[frequencies_2 <= c]) / len(frequencies_2)\n",
    "b"
   ]
  },
  {
   "cell_type": "code",
   "execution_count": 23,
   "id": "10ee860b",
   "metadata": {},
   "outputs": [],
   "source": [
    "r = 100000\n",
    "\n",
    "frequencies_3 = []\n",
    "\n",
    "for i in range(r):\n",
    "    sample = np.random.binomial(1, p0, n0)\n",
    "    ps = sum(sample) / len(sample)\n",
    "    frequencies_3.append(ps)"
   ]
  },
  {
   "cell_type": "code",
   "execution_count": 24,
   "id": "4403149a",
   "metadata": {},
   "outputs": [
    {
     "data": {
      "text/plain": [
       "0        0.002\n",
       "1        0.001\n",
       "2        0.001\n",
       "3        0.000\n",
       "4        0.001\n",
       "         ...  \n",
       "99995    0.001\n",
       "99996    0.000\n",
       "99997    0.002\n",
       "99998    0.001\n",
       "99999    0.002\n",
       "Length: 100000, dtype: float64"
      ]
     },
     "execution_count": 24,
     "metadata": {},
     "output_type": "execute_result"
    }
   ],
   "source": [
    "frequencies_3 = pd.Series(frequencies_3)\n",
    "frequencies_3"
   ]
  },
  {
   "cell_type": "code",
   "execution_count": 26,
   "id": "7f156b22",
   "metadata": {},
   "outputs": [
    {
     "data": {
      "text/plain": [
       "0.01896"
      ]
     },
     "execution_count": 26,
     "metadata": {},
     "output_type": "execute_result"
    }
   ],
   "source": [
    "# type I error estimate \n",
    "a = len(frequencies_3[frequencies_3 > c]) / len(frequencies_3)\n",
    "a"
   ]
  },
  {
   "cell_type": "code",
   "execution_count": null,
   "id": "5d6cfb12",
   "metadata": {},
   "outputs": [],
   "source": []
  }
 ],
 "metadata": {
  "kernelspec": {
   "display_name": "Python 3 (ipykernel)",
   "language": "python",
   "name": "python3"
  },
  "language_info": {
   "codemirror_mode": {
    "name": "ipython",
    "version": 3
   },
   "file_extension": ".py",
   "mimetype": "text/x-python",
   "name": "python",
   "nbconvert_exporter": "python",
   "pygments_lexer": "ipython3",
   "version": "3.9.12"
  }
 },
 "nbformat": 4,
 "nbformat_minor": 5
}
